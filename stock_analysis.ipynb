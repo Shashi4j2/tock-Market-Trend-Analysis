# Stock Market Trend Analysis
# Author: Your Name
# Description: Analyze stock trends using Python (yfinance, pandas, matplotlib)

# 1. Import required libraries
import yfinance as yf
import pandas as pd
import matplotlib.pyplot as plt

# 2. Select stock and date range
ticker = "AAPL"  # Change to any other stock symbol
start_date = "2022-01-01"
end_date = "2023-01-01"

# 3. Download historical stock data
data = yf.download(ticker, start=start_date, end=end_date)

# 4. Show the first few rows
print("Sample data:\n", data.head())

# 5. Plot closing price trend
plt.figure(figsize=(12, 6))
plt.plot(data["Close"], label="Close Price")
plt.title(f"{ticker} Stock Price ({start_date} to {end_date})")
plt.xlabel("Date")
plt.ylabel("Price (USD)")
plt.legend()
plt.grid(True)
plt.show()

# 6. Calculate and plot 30-day moving average
data["MA30"] = data["Close"].rolling(window=30).mean()

plt.figure(figsize=(12, 6))
plt.plot(data["Close"], label="Close Price")
plt.plot(data["MA30"], label="30-Day MA", color='orange')
plt.title(f"{ticker} 30-Day Moving Average Trend")
plt.xlabel("Date")
plt.ylabel("Price (USD)")
plt.legend()
plt.grid(True)
plt.show()



# Step 2: Select Stock and Date Range

# Define the stock ticker symbol
ticker = "AAPL"  # "AAPL" is the ticker symbol for Apple Inc.

# Define the start and end dates for analysis
start_date = "2022-01-01"  # Start date (YYYY-MM-DD)
end_date = "2023-01-01"    # End date (YYYY-MM-DD)
